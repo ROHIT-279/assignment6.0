{
 "cells": [
  {
   "cell_type": "code",
   "execution_count": 1,
   "id": "da22bb9c-3997-454d-86b9-9947b11f46b3",
   "metadata": {},
   "outputs": [],
   "source": [
    "#  Q1.A database is a structured collection of data that is organized and stored in a computer system. It provides a way to manage, store, retrieve, and manipulate data efficiently. Databases are widely used in various applications, ranging from small-scale personal projects to large-scale enterprise systems.\n",
    "\n",
    "# SQL (Structured Query Language) and NoSQL (Not Only SQL) are two different types of database management systems, each with its own characteristics and use cases. Here's a brief differentiation between SQL and NoSQL databases:\n",
    "\n",
    "# 1. Structure:\n",
    "#    - SQL databases are based on a structured data model known as the relational model. They store data in tables with predefined schemas, where each table consists of rows and columns. Relationships between tables are established through keys (primary and foreign keys).\n",
    "#     - NoSQL databases, on the other hand, do not follow a rigid schema. They are designed to store and retrieve unstructured or semi-structured data, such as JSON, XML, or key-value pairs. NoSQL databases are schema-less or have flexible schemas that allow for dynamic changes in data structure.\n",
    "\n",
    "# 2. Scalability:\n",
    "#    - SQL databases typically scale vertically, which means they handle increased workload by upgrading hardware resources (e.g., CPU, memory, storage) on a single server. They are well-suited for applications with complex relationships and structured data.\n",
    "#    - NoSQL databases are designed to scale horizontally, allowing them to handle large amounts of data and traffic by adding more servers to a distributed system. They excel in handling massive volumes of unstructured or rapidly changing data, making them suitable for highly scalable and distributed applications.\n",
    "\n",
    "# 3. Query Language:\n",
    "#    - SQL databases use SQL as the standard query language for defining and manipulating the data. SQL provides a powerful and expressive syntax for querying, inserting, updating, and deleting data in a relational database.\n",
    "#    - NoSQL databases employ various query languages specific to their data model. For example, MongoDB uses a flexible query language based on JavaScript-like syntax, while Cassandra uses CQL (Cassandra Query Language) similar to SQL.\n",
    "\n",
    "# 4. ACID Transactions:\n",
    "#    - SQL databases generally support ACID (Atomicity, Consistency, Isolation, Durability) properties, ensuring data integrity and reliability. ACID transactions guarantee that a set of database operations either succeed or fail as a single unit, maintaining data consistency.\n",
    "#    - NoSQL databases often relax ACID properties to achieve higher scalability and performance. They prioritize availability and partition tolerance (known as the CAP theorem), sacrificing some level of consistency.\n",
    "\n",
    "# 5. Use Cases:\n",
    "#    - SQL databases are commonly used in applications that require complex querying, strong data consistency, and structured relationships, such as financial systems, e-commerce platforms, and traditional enterprise applications.\n",
    "#    - NoSQL databases are well-suited for use cases involving large-scale data ingestion, real-time analytics, content management systems, social media platforms, and applications with constantly changing data structures or high scalability requirements.\n",
    "\n",
    "# It's important to note that the choice between SQL and NoSQL databases depends on the specific requirements of your application, including the data structure, scalability needs, and desired consistency guarantees. In some cases, a combination of both types, known as polyglot persistence, may be used to leverage the strengths of each database system for different parts of an application #/"
   ]
  },
  {
   "cell_type": "code",
   "execution_count": 2,
   "id": "e504b04e-a1f1-4bda-b5b5-d11da3d75793",
   "metadata": {},
   "outputs": [],
   "source": [
    "#Q2. DDL stands for Data Definition Language, which is a subset of SQL used to define and manage the structure of a database. DDL statements are used to create, modify, and delete database objects such as tables, indexes, views, and schemas. The main purpose of DDL is to define the logical and physical structure of the data and to specify how the data is organized and accessed.\n",
    "\n",
    "# Here are some commonly used DDL statements and their purposes:\n",
    "#  1.CREATE:\n",
    "# The CREATE statement is used to create new database objects, such as tables, views, indexes, or schemas.\n",
    "#  2.DROP:\n",
    "# The DROP statement is used to remove database objects from the database.\n",
    "#   3.ALTER:\n",
    "# The ALTER statement is used to modify the structure or properties of an existing database object.\n",
    "#     4.TRUNCATE:\n",
    "# The TRUNCATE statement is used to remove all data from a table, but it keeps the table structure intact. It is faster than deleting all rows using the DELETE statement because it does not generate transaction logs for each deleted row. "
   ]
  },
  {
   "cell_type": "code",
   "execution_count": 3,
   "id": "f38ff93f-9f0f-42fc-b7a8-91deff6d7a8e",
   "metadata": {},
   "outputs": [],
   "source": [
    "# Q3. DML stands for Data Manipulation Language, which is a subset of SQL used to manipulate and process the data within a database. DML statements are used to insert, update, retrieve, and delete data stored in the database tables. The main purpose of DML is to interact with the data and modify its content.\n",
    "#    INSERT:\n",
    "# The INSERT statement is used to add new records (rows) into a table. It specifies the table name and the values to be inserted into the corresponding columns.\n",
    "#   UPDATE:\n",
    "# The UPDATE statement is used to modify existing records in a table. It allows you to change the values of specific columns based on certain conditions.\n",
    "#    DELETE:\n",
    "# The DELETE statement is used to remove records from a table. It allows you to specify conditions to selectively delete rows that meet certain criteria. "
   ]
  },
  {
   "cell_type": "code",
   "execution_count": 4,
   "id": "344877d8-1ac7-4ed4-a391-992273f1430e",
   "metadata": {},
   "outputs": [],
   "source": [
    "# Q3. DQL stands for Data Query Language, which is a subset of SQL used to retrieve and query data from a database. DQL is focused on retrieving specific data based on specified criteria and conditions. The primary statement used in DQL is the SELECT statement, which allows you to retrieve data from one or more tables in a database.\n",
    " \n",
    "# DQL stands for Data Query Language, which is a subset of SQL used to retrieve and query data from a database. DQL is focused on retrieving specific data based on specified criteria and conditions. The primary statement used in DQL is the SELECT statement, which allows you to retrieve data from one or more tables in a database.\n",
    "\n",
    "# The SELECT statement is used to specify the columns and tables from which you want to retrieve data, as well as any conditions or sorting requirements. Here's an example of how the SELECT statement is used:\n",
    "\n",
    "# Suppose we have a table called \"Employees\" with columns for employee ID, name, age, and salary. We can use the SELECT statement to retrieve specific columns or all columns from the table:\n",
    "#     -- Retrieving all columns from the Employees table\n",
    "# SELECT * FROM Employees;\n",
    "\n",
    "# -- Retrieving specific columns (EmployeeID, Name, Salary) from the Employees table\n",
    "# SELECT EmployeeID, Name, Salary FROM Employees;\n"
   ]
  },
  {
   "cell_type": "code",
   "execution_count": 5,
   "id": "5c9907c3-2cb5-45c2-ad1e-ddcbe977b74d",
   "metadata": {},
   "outputs": [],
   "source": [
    "# Q4.Primary Key:\n",
    "# A primary key is a column or a set of columns in a database table that uniquely identifies each row in the table. It ensures that each record in the table is unique and serves as a reference point for other tables that establish relationships with the table containing the primary key. The primary key constraint guarantees the uniqueness and integrity of the data in the table. Some characteristics of a primary key are:\n",
    "\n",
    "# Uniqueness: Each value in the primary key column(s) must be unique. No two rows in the table can have the same primary key value.\n",
    "# Non-nullability: The primary key column(s) cannot contain null values. Every row must have a valid value for the primary key.\n",
    "#  Immutability: The value of the primary key should not change once it is assigned to a row.\n",
    "\n",
    "# Primary Key:\n",
    "# A primary key is a column or a set of columns in a database table that uniquely identifies each row in the table. It ensures that each record in the table is unique and serves as a reference point for other tables that establish relationships with the table containing the primary key. The primary key constraint guarantees the uniqueness and integrity of the data in the table. Some characteristics of a primary key are:\n",
    "\n",
    "# Uniqueness: Each value in the primary key column(s) must be unique. No two rows in the table can have the same primary key value.\n",
    "# Non-nullability: The primary key column(s) cannot contain null values. Every row must have a valid value for the primary key.\n",
    "# Immutability: The value of the primary key should not change once it is assigned to a row.\n",
    "# Example:\n",
    "# Consider a table called \"Customers\" with a primary key column named \"CustomerID.\" Each customer in the table will have a unique customer ID, which serves as the primary key. This primary key ensures that each customer is uniquely identified within the table.\n",
    "\n",
    "# Foreign Key:\n",
    "# A foreign key establishes a relationship between two tables in a database. It refers to the primary key of another table and creates a link between the two tables based on common values. The foreign key in one table references the primary key in another table, defining a relationship between them. Foreign keys maintain data integrity and enforce referential integrity constraints. Some characteristics of a foreign key are:\n",
    "\n",
    "# References a Primary Key: The foreign key column in one table refers to the primary key column(s) in another table.\n",
    "# Maintains Referential Integrity: The values in the foreign key column must match the values in the primary key column of the referenced table, or be null (if allowed).\n",
    "# Supports Relationships: Foreign keys establish relationships between tables, such as one-to-one, one-to-many, or many-to-many relationships."
   ]
  },
  {
   "cell_type": "code",
   "execution_count": 2,
   "id": "6579f15e-1a0d-423c-ac48-b86eecacd217",
   "metadata": {},
   "outputs": [],
   "source": [
    "#Q5.\n",
    "# import mysql.connector\n",
    "# # import mysql.connector\n",
    "# #create user 'user'@'%' identified by 'password'\n",
    "# mydb = mysql.connector.connect(\n",
    "#   host=\"localhost\",\n",
    "#   user=\"abc\",\n",
    "#   password=\"password\"\n",
    "# )\n",
    "# print(mydb)\n",
    "# mycursor = mydb.cursor()\n",
    "# mycursor.execute(\"CREATE DATABASE if not exists test2\")\n",
    "# for x in mycursor:\n",
    "#     print(x)"
   ]
  },
  {
   "cell_type": "code",
   "execution_count": null,
   "id": "a9f32507-2dd9-4584-acc6-31fe046ef67b",
   "metadata": {},
   "outputs": [],
   "source": []
  }
 ],
 "metadata": {
  "kernelspec": {
   "display_name": "Python 3 (ipykernel)",
   "language": "python",
   "name": "python3"
  },
  "language_info": {
   "codemirror_mode": {
    "name": "ipython",
    "version": 3
   },
   "file_extension": ".py",
   "mimetype": "text/x-python",
   "name": "python",
   "nbconvert_exporter": "python",
   "pygments_lexer": "ipython3",
   "version": "3.10.8"
  }
 },
 "nbformat": 4,
 "nbformat_minor": 5
}
